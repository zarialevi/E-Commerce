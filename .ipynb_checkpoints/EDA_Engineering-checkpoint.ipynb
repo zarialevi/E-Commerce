{
 "cells": [
  {
   "cell_type": "markdown",
   "metadata": {},
   "source": [
    "# Data Formatting and Feature Engineering\n",
    "\n",
    "This notebook will walkthrough the process of cleaning and wrangling our data, doing some feature engineering, and generally getting a good sense of our data.\n",
    "\n",
    "We first join features from various tables. Various datasets were collated, and as our data contains related tables, it seemed logical to query the data and take only what was needed for each dataset. Having various datasets helped to simplify the EDA process, and to enable easy visualisation building with Tableau.\n",
    "\n"
   ]
  },
  {
   "cell_type": "code",
   "execution_count": 1,
   "metadata": {},
   "outputs": [],
   "source": [
    "import pandas as pd\n",
    "import pickle\n",
    "import numpy as np\n",
    "from pandasql import sqldf\n",
    "pysqldf = lambda q: sqldf(q, globals())"
   ]
  },
  {
   "cell_type": "code",
   "execution_count": 2,
   "metadata": {},
   "outputs": [],
   "source": [
    "sellers_df = pd.read_csv('data/source_data/olist_sellers_dataset.csv')\n",
    "products_df = pd.read_csv('data/source_data/olist_products_dataset.csv')\n",
    "orders_df = pd.read_csv('data/source_data/olist_orders_dataset.csv')\n",
    "reviews_df = pd.read_csv('data/source_data/olist_order_reviews_dataset.csv')\n",
    "payments_df = pd.read_csv('data/source_data/olist_order_payments_dataset.csv')\n",
    "items_df = pd.read_csv('data/source_data/olist_order_items_dataset.csv')\n",
    "geo_df = pd.read_csv('data/source_data/olist_geolocation_dataset.csv')\n",
    "customers_df = pd.read_csv('data/source_data/olist_customers_dataset.csv')\n",
    "translation_df = pd.read_csv('data/source_data/product_category_name_translation.csv')"
   ]
  },
  {
   "cell_type": "markdown",
   "metadata": {},
   "source": [
    "#### Products\n",
    "\n",
    "Joining features relating to the products sold."
   ]
  },
  {
   "cell_type": "code",
   "execution_count": 3,
   "metadata": {},
   "outputs": [],
   "source": [
    "q = \"\"\"SELECT p.product_id, t.product_category_name_english, p.product_name_lenght, p.product_description_lenght, p.product_photos_qty, p.product_weight_g, p.product_length_cm, p.product_height_cm, p.product_width_cm,\n",
    "               o.order_id, o.customer_id, o.order_purchase_timestamp, o.order_approved_at, o.order_delivered_carrier_date, o.order_delivered_customer_date, o.order_estimated_delivery_date,\n",
    "               i.order_item_id, i.shipping_limit_date, i.price, i.freight_value,\n",
    "               s.seller_id, s.seller_zip_code_prefix, s.seller_city, s.seller_state,\n",
    "               r.review_score\n",
    "        FROM products_df p\n",
    "        INNER JOIN items_df i\n",
    "        ON i.product_id = p.product_id\n",
    "        INNER JOIN sellers_df s\n",
    "        ON s.seller_id = i.seller_id\n",
    "        INNER JOIN orders_df o\n",
    "        ON o.order_id = i.order_id\n",
    "        INNER JOIN reviews_df r\n",
    "        ON o.order_id = r.order_id\n",
    "        INNER JOIN translation_df t\n",
    "        ON p.product_category_name = t.product_category_name\n",
    "        ;\"\"\"\n",
    "\n",
    "df = pysqldf(q)\n",
    "\n",
    "df.head()\n",
    "\n",
    "df.drop_duplicates(subset=['customer_id','order_id','product_id'], keep='last', inplace=True)\n",
    "df.reset_index(inplace=True)"
   ]
  },
  {
   "cell_type": "markdown",
   "metadata": {},
   "source": [
    "#### Delivery\n",
    "\n",
    "Columns are converted to DateTime Objects, and features were extracted to give insight on order approval and delivery times."
   ]
  },
  {
   "cell_type": "code",
   "execution_count": 4,
   "metadata": {},
   "outputs": [],
   "source": [
    "date_cols = ['order_purchase_timestamp', 'order_approved_at',\n",
    "       'order_delivered_carrier_date', 'order_delivered_customer_date',\n",
    "       'order_estimated_delivery_date','shipping_limit_date']\n",
    "\n",
    "for col in date_cols:\n",
    "    df[col] = pd.to_datetime(df[col], infer_datetime_format=True, errors='coerce')"
   ]
  },
  {
   "cell_type": "code",
   "execution_count": 5,
   "metadata": {},
   "outputs": [],
   "source": [
    "approval_time = []\n",
    "\n",
    "for x, time in enumerate(df['order_approved_at']):\n",
    "    approval_time.append(time - df['order_purchase_timestamp'][x])"
   ]
  },
  {
   "cell_type": "code",
   "execution_count": 6,
   "metadata": {},
   "outputs": [],
   "source": [
    "total_order_time = []\n",
    "\n",
    "for x, time in enumerate(df['order_delivered_customer_date']):\n",
    "    total_order_time.append(time - df['order_purchase_timestamp'][x])"
   ]
  },
  {
   "cell_type": "code",
   "execution_count": 7,
   "metadata": {},
   "outputs": [],
   "source": [
    "order_estimated_delivery = []\n",
    "\n",
    "for x, time in enumerate(df['order_purchase_timestamp']):\n",
    "    order_estimated_delivery.append(time - df['order_estimated_delivery_date'][x])"
   ]
  },
  {
   "cell_type": "code",
   "execution_count": 8,
   "metadata": {},
   "outputs": [],
   "source": [
    "order_estimation_difference = []\n",
    "\n",
    "for x, time in enumerate(df['order_delivered_customer_date']):\n",
    "    order_estimation_difference.append(time - df['order_estimated_delivery_date'][x])"
   ]
  },
  {
   "cell_type": "code",
   "execution_count": 9,
   "metadata": {},
   "outputs": [],
   "source": [
    "order_shipping_limit = []\n",
    "\n",
    "for x, time in enumerate(df['shipping_limit_date']):\n",
    "    order_shipping_limit.append(time - df['order_purchase_timestamp'][x])"
   ]
  },
  {
   "cell_type": "code",
   "execution_count": 10,
   "metadata": {},
   "outputs": [],
   "source": [
    "df['order_approval_time'] = approval_time\n",
    "df['total_order_time'] = total_order_time\n",
    "df['order_estimated_delivery'] = order_estimated_delivery\n",
    "df['order_estimation_difference'] = order_estimation_difference\n",
    "df['order_shipping_limit'] = order_shipping_limit"
   ]
  },
  {
   "cell_type": "code",
   "execution_count": 11,
   "metadata": {},
   "outputs": [],
   "source": [
    "df.drop(columns=date_cols, inplace=True)"
   ]
  },
  {
   "cell_type": "markdown",
   "metadata": {},
   "source": [
    "#### Delivery Averages per Product\n",
    "\n",
    "Averages were collected and joined with original DataFrame."
   ]
  },
  {
   "cell_type": "code",
   "execution_count": 12,
   "metadata": {},
   "outputs": [],
   "source": [
    "delivery_df = df[['product_id', 'product_category_name_english', 'order_approval_time', 'total_order_time', 'order_estimated_delivery',\n",
    "                  'order_estimation_difference', 'order_shipping_limit','order_id']]\n",
    "\n",
    "delivery_averages_ = delivery_df.drop(columns=['order_id']).groupby('product_id').agg(lambda x: x.mean())\n",
    "delivery_averages = delivery_averages_.copy()"
   ]
  },
  {
   "cell_type": "code",
   "execution_count": 13,
   "metadata": {},
   "outputs": [
    {
     "data": {
      "text/html": [
       "<div>\n",
       "<style scoped>\n",
       "    .dataframe tbody tr th:only-of-type {\n",
       "        vertical-align: middle;\n",
       "    }\n",
       "\n",
       "    .dataframe tbody tr th {\n",
       "        vertical-align: top;\n",
       "    }\n",
       "\n",
       "    .dataframe thead th {\n",
       "        text-align: right;\n",
       "    }\n",
       "</style>\n",
       "<table border=\"1\" class=\"dataframe\">\n",
       "  <thead>\n",
       "    <tr style=\"text-align: right;\">\n",
       "      <th></th>\n",
       "      <th>customer_id</th>\n",
       "      <th>product_id</th>\n",
       "      <th>order_approval_time</th>\n",
       "      <th>order_approval_time_average</th>\n",
       "      <th>total_order_time</th>\n",
       "      <th>total_order_time_average</th>\n",
       "      <th>order_estimated_delivery</th>\n",
       "      <th>order_estimated_delivery_average</th>\n",
       "      <th>order_estimation_difference</th>\n",
       "      <th>order_estimation_difference_average</th>\n",
       "      <th>order_shipping_limit</th>\n",
       "      <th>order_shipping_limit_average</th>\n",
       "    </tr>\n",
       "  </thead>\n",
       "  <tbody>\n",
       "    <tr>\n",
       "      <th>0</th>\n",
       "      <td>f8a3e963a310aa58b60a5b1fed5bceb5</td>\n",
       "      <td>1e9e8ef04dbcff4541ed26657ea517e5</td>\n",
       "      <td>0 days 02:47:26</td>\n",
       "      <td>0 days 02:47:26</td>\n",
       "      <td>3 days 00:25:24</td>\n",
       "      <td>3 days 00:25:24</td>\n",
       "      <td>-15 days +16:16:53</td>\n",
       "      <td>-15 days +16:16:53</td>\n",
       "      <td>-12 days +16:42:17</td>\n",
       "      <td>-12 days +16:42:17</td>\n",
       "      <td>6 days 01:17:01</td>\n",
       "      <td>6 days 01:17:01</td>\n",
       "    </tr>\n",
       "    <tr>\n",
       "      <th>1</th>\n",
       "      <td>03fc97548af8f58fefc768d12b546c9c</td>\n",
       "      <td>3aa071139cb16b67ca9e5dea641aaa2f</td>\n",
       "      <td>0 days 00:15:39</td>\n",
       "      <td>0 days 00:15:39</td>\n",
       "      <td>15 days 18:31:32</td>\n",
       "      <td>15 days 18:31:32</td>\n",
       "      <td>-22 days +18:55:36</td>\n",
       "      <td>-22 days +18:55:36</td>\n",
       "      <td>-6 days +13:27:08</td>\n",
       "      <td>-6 days +13:27:08</td>\n",
       "      <td>6 days 00:15:39</td>\n",
       "      <td>6 days 00:15:39</td>\n",
       "    </tr>\n",
       "    <tr>\n",
       "      <th>2</th>\n",
       "      <td>e41819d1c95c12c9ce495b630eab8aee</td>\n",
       "      <td>96bd76ec8810374ed1b65e291975717f</td>\n",
       "      <td>0 days 00:12:19</td>\n",
       "      <td>0 days 00:12:19</td>\n",
       "      <td>2 days 02:06:15</td>\n",
       "      <td>2 days 02:06:15</td>\n",
       "      <td>-9 days +21:18:01</td>\n",
       "      <td>-9 days +21:18:01</td>\n",
       "      <td>-7 days +23:24:16</td>\n",
       "      <td>-7 days +23:24:16</td>\n",
       "      <td>2 days 00:12:19</td>\n",
       "      <td>2 days 00:12:19</td>\n",
       "    </tr>\n",
       "    <tr>\n",
       "      <th>3</th>\n",
       "      <td>322162b5ca010c2b059cb5224dd818b1</td>\n",
       "      <td>cef67bcfe19066a932b7673e239eb23d</td>\n",
       "      <td>0 days 00:35:52</td>\n",
       "      <td>0 days 00:35:52</td>\n",
       "      <td>3 days 06:18:42</td>\n",
       "      <td>3 days 06:18:42</td>\n",
       "      <td>-5 days +08:55:50</td>\n",
       "      <td>-5 days +08:55:50</td>\n",
       "      <td>-2 days +15:14:32</td>\n",
       "      <td>-2 days +15:14:32</td>\n",
       "      <td>4 days 00:14:23</td>\n",
       "      <td>4 days 00:14:23</td>\n",
       "    </tr>\n",
       "    <tr>\n",
       "      <th>4</th>\n",
       "      <td>c11c31965ff02cc1d7132df8edfcbc22</td>\n",
       "      <td>9dc1a7de274444849c219cff195d0b71</td>\n",
       "      <td>0 days 00:23:46</td>\n",
       "      <td>0 days 00:23:46</td>\n",
       "      <td>2 days 21:35:07</td>\n",
       "      <td>2 days 21:35:07</td>\n",
       "      <td>-15 days +01:06:37</td>\n",
       "      <td>-15 days +01:06:37</td>\n",
       "      <td>-13 days +22:41:44</td>\n",
       "      <td>-13 days +22:41:44</td>\n",
       "      <td>6 days 00:23:46</td>\n",
       "      <td>6 days 00:23:46</td>\n",
       "    </tr>\n",
       "    <tr>\n",
       "      <th>5</th>\n",
       "      <td>3f3a10ec410c8efb0ca799fa7705d07e</td>\n",
       "      <td>41d3672d4792049fa1779bb35283ed13</td>\n",
       "      <td>1 days 00:06:48</td>\n",
       "      <td>1 days 00:06:48</td>\n",
       "      <td>17 days 02:58:00</td>\n",
       "      <td>17 days 02:58:00</td>\n",
       "      <td>-36 days +15:41:41</td>\n",
       "      <td>-36 days +15:41:41</td>\n",
       "      <td>-19 days +18:39:41</td>\n",
       "      <td>-19 days +18:39:41</td>\n",
       "      <td>7 days 00:06:48</td>\n",
       "      <td>7 days 00:06:48</td>\n",
       "    </tr>\n",
       "    <tr>\n",
       "      <th>6</th>\n",
       "      <td>7e395b4bf53aea8c56b1213f1b801411</td>\n",
       "      <td>732bd381ad09e530fe0a5f457d81becb</td>\n",
       "      <td>0 days 00:08:09</td>\n",
       "      <td>0 days 00:27:27.500000</td>\n",
       "      <td>5 days 10:07:46</td>\n",
       "      <td>9 days 08:56:01</td>\n",
       "      <td>-24 days +12:31:15</td>\n",
       "      <td>-27 days +23:53:06.500000</td>\n",
       "      <td>-19 days +22:39:01</td>\n",
       "      <td>-17 days +08:49:07.500000</td>\n",
       "      <td>4 days 00:08:09</td>\n",
       "      <td>5 days 00:12:01</td>\n",
       "    </tr>\n",
       "    <tr>\n",
       "      <th>7</th>\n",
       "      <td>30f840412466fa26e5c035e1ad1fdec3</td>\n",
       "      <td>732bd381ad09e530fe0a5f457d81becb</td>\n",
       "      <td>0 days 00:46:46</td>\n",
       "      <td>0 days 00:27:27.500000</td>\n",
       "      <td>13 days 07:44:16</td>\n",
       "      <td>9 days 08:56:01</td>\n",
       "      <td>-29 days +11:14:58</td>\n",
       "      <td>-27 days +23:53:06.500000</td>\n",
       "      <td>-16 days +18:59:14</td>\n",
       "      <td>-17 days +08:49:07.500000</td>\n",
       "      <td>6 days 00:15:53</td>\n",
       "      <td>5 days 00:12:01</td>\n",
       "    </tr>\n",
       "    <tr>\n",
       "      <th>8</th>\n",
       "      <td>181e2217f874cb5390be37f378db5e07</td>\n",
       "      <td>2548af3e6e77a690cf3eb6368e9ab61e</td>\n",
       "      <td>0 days 02:10:55</td>\n",
       "      <td>0 days 00:50:43.333333</td>\n",
       "      <td>12 days 19:15:42</td>\n",
       "      <td>8 days 18:43:02.333333</td>\n",
       "      <td>-25 days +14:22:48</td>\n",
       "      <td>-22 days +05:30:05</td>\n",
       "      <td>-12 days +09:38:30</td>\n",
       "      <td>-13 days +00:13:07.333333</td>\n",
       "      <td>6 days 02:08:12</td>\n",
       "      <td>4 days 16:49:49</td>\n",
       "    </tr>\n",
       "    <tr>\n",
       "      <th>9</th>\n",
       "      <td>2ea5983ec2edde5dcba726ea64e9fadb</td>\n",
       "      <td>2548af3e6e77a690cf3eb6368e9ab61e</td>\n",
       "      <td>0 days 00:09:27</td>\n",
       "      <td>0 days 00:50:43.333333</td>\n",
       "      <td>8 days 10:05:55</td>\n",
       "      <td>8 days 18:43:02.333333</td>\n",
       "      <td>-23 days +11:26:14</td>\n",
       "      <td>-22 days +05:30:05</td>\n",
       "      <td>-15 days +21:32:09</td>\n",
       "      <td>-13 days +00:13:07.333333</td>\n",
       "      <td>4 days 00:09:27</td>\n",
       "      <td>4 days 16:49:49</td>\n",
       "    </tr>\n",
       "  </tbody>\n",
       "</table>\n",
       "</div>"
      ],
      "text/plain": [
       "                        customer_id                        product_id  \\\n",
       "0  f8a3e963a310aa58b60a5b1fed5bceb5  1e9e8ef04dbcff4541ed26657ea517e5   \n",
       "1  03fc97548af8f58fefc768d12b546c9c  3aa071139cb16b67ca9e5dea641aaa2f   \n",
       "2  e41819d1c95c12c9ce495b630eab8aee  96bd76ec8810374ed1b65e291975717f   \n",
       "3  322162b5ca010c2b059cb5224dd818b1  cef67bcfe19066a932b7673e239eb23d   \n",
       "4  c11c31965ff02cc1d7132df8edfcbc22  9dc1a7de274444849c219cff195d0b71   \n",
       "5  3f3a10ec410c8efb0ca799fa7705d07e  41d3672d4792049fa1779bb35283ed13   \n",
       "6  7e395b4bf53aea8c56b1213f1b801411  732bd381ad09e530fe0a5f457d81becb   \n",
       "7  30f840412466fa26e5c035e1ad1fdec3  732bd381ad09e530fe0a5f457d81becb   \n",
       "8  181e2217f874cb5390be37f378db5e07  2548af3e6e77a690cf3eb6368e9ab61e   \n",
       "9  2ea5983ec2edde5dcba726ea64e9fadb  2548af3e6e77a690cf3eb6368e9ab61e   \n",
       "\n",
       "  order_approval_time order_approval_time_average total_order_time  \\\n",
       "0     0 days 02:47:26             0 days 02:47:26  3 days 00:25:24   \n",
       "1     0 days 00:15:39             0 days 00:15:39 15 days 18:31:32   \n",
       "2     0 days 00:12:19             0 days 00:12:19  2 days 02:06:15   \n",
       "3     0 days 00:35:52             0 days 00:35:52  3 days 06:18:42   \n",
       "4     0 days 00:23:46             0 days 00:23:46  2 days 21:35:07   \n",
       "5     1 days 00:06:48             1 days 00:06:48 17 days 02:58:00   \n",
       "6     0 days 00:08:09      0 days 00:27:27.500000  5 days 10:07:46   \n",
       "7     0 days 00:46:46      0 days 00:27:27.500000 13 days 07:44:16   \n",
       "8     0 days 02:10:55      0 days 00:50:43.333333 12 days 19:15:42   \n",
       "9     0 days 00:09:27      0 days 00:50:43.333333  8 days 10:05:55   \n",
       "\n",
       "  total_order_time_average order_estimated_delivery  \\\n",
       "0          3 days 00:25:24       -15 days +16:16:53   \n",
       "1         15 days 18:31:32       -22 days +18:55:36   \n",
       "2          2 days 02:06:15        -9 days +21:18:01   \n",
       "3          3 days 06:18:42        -5 days +08:55:50   \n",
       "4          2 days 21:35:07       -15 days +01:06:37   \n",
       "5         17 days 02:58:00       -36 days +15:41:41   \n",
       "6          9 days 08:56:01       -24 days +12:31:15   \n",
       "7          9 days 08:56:01       -29 days +11:14:58   \n",
       "8   8 days 18:43:02.333333       -25 days +14:22:48   \n",
       "9   8 days 18:43:02.333333       -23 days +11:26:14   \n",
       "\n",
       "  order_estimated_delivery_average order_estimation_difference  \\\n",
       "0               -15 days +16:16:53          -12 days +16:42:17   \n",
       "1               -22 days +18:55:36           -6 days +13:27:08   \n",
       "2                -9 days +21:18:01           -7 days +23:24:16   \n",
       "3                -5 days +08:55:50           -2 days +15:14:32   \n",
       "4               -15 days +01:06:37          -13 days +22:41:44   \n",
       "5               -36 days +15:41:41          -19 days +18:39:41   \n",
       "6        -27 days +23:53:06.500000          -19 days +22:39:01   \n",
       "7        -27 days +23:53:06.500000          -16 days +18:59:14   \n",
       "8               -22 days +05:30:05          -12 days +09:38:30   \n",
       "9               -22 days +05:30:05          -15 days +21:32:09   \n",
       "\n",
       "  order_estimation_difference_average order_shipping_limit  \\\n",
       "0                  -12 days +16:42:17      6 days 01:17:01   \n",
       "1                   -6 days +13:27:08      6 days 00:15:39   \n",
       "2                   -7 days +23:24:16      2 days 00:12:19   \n",
       "3                   -2 days +15:14:32      4 days 00:14:23   \n",
       "4                  -13 days +22:41:44      6 days 00:23:46   \n",
       "5                  -19 days +18:39:41      7 days 00:06:48   \n",
       "6           -17 days +08:49:07.500000      4 days 00:08:09   \n",
       "7           -17 days +08:49:07.500000      6 days 00:15:53   \n",
       "8           -13 days +00:13:07.333333      6 days 02:08:12   \n",
       "9           -13 days +00:13:07.333333      4 days 00:09:27   \n",
       "\n",
       "  order_shipping_limit_average  \n",
       "0              6 days 01:17:01  \n",
       "1              6 days 00:15:39  \n",
       "2              2 days 00:12:19  \n",
       "3              4 days 00:14:23  \n",
       "4              6 days 00:23:46  \n",
       "5              7 days 00:06:48  \n",
       "6              5 days 00:12:01  \n",
       "7              5 days 00:12:01  \n",
       "8              4 days 16:49:49  \n",
       "9              4 days 16:49:49  "
      ]
     },
     "execution_count": 13,
     "metadata": {},
     "output_type": "execute_result"
    }
   ],
   "source": [
    "data = df.join(delivery_averages, on='product_id', rsuffix='_average')\n",
    "\n",
    "data[['customer_id','product_id','order_approval_time','order_approval_time_average',\n",
    "    'total_order_time','total_order_time_average','order_estimated_delivery',\n",
    "    'order_estimated_delivery_average','order_estimation_difference','order_estimation_difference_average','order_shipping_limit',\n",
    "    'order_shipping_limit_average']].head(10)"
   ]
  },
  {
   "cell_type": "code",
   "execution_count": 14,
   "metadata": {},
   "outputs": [],
   "source": [
    "products = data\n",
    "# products.to_csv('data/products.csv', index=False)"
   ]
  },
  {
   "cell_type": "code",
   "execution_count": 15,
   "metadata": {},
   "outputs": [],
   "source": [
    "pickle.dump(products, open('data/products.p', 'wb'))"
   ]
  },
  {
   "cell_type": "markdown",
   "metadata": {},
   "source": [
    "# Customers\n",
    "\n",
    "Combined with information about the product(s) bought, this data can be used for Clustering for better insight on customers.\n",
    "\n",
    "Freight Value %?"
   ]
  },
  {
   "cell_type": "code",
   "execution_count": 16,
   "metadata": {},
   "outputs": [],
   "source": [
    "q = \"\"\"SELECT c.customer_id, p.order_id, c.customer_zip_code_prefix, c.customer_city, \n",
    "                c.customer_state,\n",
    "                p.payment_value, i.price, i.freight_value, i.product_id,\n",
    "                p.payment_type, p.payment_installments, i.order_item_id, \n",
    "                t.product_category_name_english,\n",
    "                s.seller_city, s.seller_state\n",
    "        FROM customers_df c\n",
    "        INNER JOIN orders_df o\n",
    "        ON o.customer_id = c.customer_id\n",
    "        INNER JOIN payments_df p\n",
    "        ON o.order_id = p.order_id\n",
    "        INNER JOIN items_df i\n",
    "        ON o.order_id = i.order_id\n",
    "        INNER JOIN products_df pd\n",
    "        ON i.product_id = pd.product_id\n",
    "        INNER JOIN sellers_df s\n",
    "        ON i.seller_id = s.seller_id\n",
    "        INNER JOIN translation_df t\n",
    "        ON pd.product_category_name = t.product_category_name\n",
    "        ;\"\"\"\n",
    "\n",
    "data = pysqldf(q)\n",
    "\n",
    "data['items_in_order'] = data['order_item_id']\n",
    "data.drop(columns=['order_item_id'], inplace=True)\n",
    "\n",
    "data.drop_duplicates(subset=['customer_id','order_id','product_id'], keep='last', inplace=True)\n",
    "data.reset_index(inplace=True)"
   ]
  },
  {
   "cell_type": "code",
   "execution_count": 17,
   "metadata": {},
   "outputs": [],
   "source": [
    "data['freight_total_pay'] = data['freight_value'] / data['payment_value'] "
   ]
  },
  {
   "cell_type": "code",
   "execution_count": 18,
   "metadata": {},
   "outputs": [],
   "source": [
    "data['freight_item_price'] = data['freight_value'] / data['price']"
   ]
  },
  {
   "cell_type": "code",
   "execution_count": 19,
   "metadata": {},
   "outputs": [],
   "source": [
    "customers = data\n",
    "# customers.to_csv('data/customers.csv', index=False)\n",
    "pickle.dump(customers, open('data/customers.p', 'wb'))"
   ]
  },
  {
   "cell_type": "markdown",
   "metadata": {},
   "source": [
    "# Reviews\n",
    "\n",
    "Potential for Sentiment Analysis\n",
    "\n",
    "Length of review, creation date"
   ]
  },
  {
   "cell_type": "code",
   "execution_count": 20,
   "metadata": {},
   "outputs": [],
   "source": [
    "q = \"\"\"SELECT r.review_id, r.order_id, r.review_score, r.review_comment_title, r.review_comment_message\n",
    "        FROM reviews_df r\n",
    "        ;\"\"\"\n",
    "\n",
    "data = pysqldf(q)"
   ]
  },
  {
   "cell_type": "code",
   "execution_count": 21,
   "metadata": {},
   "outputs": [],
   "source": [
    "title_lengths = []\n",
    "\n",
    "for x, length in enumerate(data['review_comment_title']):\n",
    "    if length == None:\n",
    "        title_lengths.append('None')\n",
    "    else:\n",
    "        title_lengths.append(len(length))\n",
    "        \n",
    "        \n",
    "review_lengths = []\n",
    "\n",
    "for x, length in enumerate(data['review_comment_message']):\n",
    "    if length == None:\n",
    "        review_lengths.append('None')\n",
    "    else:\n",
    "        review_lengths.append(len(length))\n",
    "    \n",
    "data['title_length'] = title_lengths\n",
    "data['review_length'] = review_lengths"
   ]
  },
  {
   "cell_type": "code",
   "execution_count": 22,
   "metadata": {},
   "outputs": [],
   "source": [
    "reviews = data\n",
    "# reviews.to_csv('data/reviews.csv', index=False)\n",
    "pickle.dump(reviews, open('data/reviews.p', 'wb'))"
   ]
  },
  {
   "cell_type": "markdown",
   "metadata": {},
   "source": [
    "# Data Prep\n",
    "\n",
    "## Full Dataset\n",
    "\n",
    "A dataset was built to include all the relevent features or our regression model."
   ]
  },
  {
   "cell_type": "code",
   "execution_count": 23,
   "metadata": {},
   "outputs": [],
   "source": [
    "products = pd.read_csv('data/products.csv')\n",
    "customers = pd.read_csv('data/customers.csv')\n",
    "reviews = pd.read_csv('data/reviews.csv')"
   ]
  },
  {
   "cell_type": "code",
   "execution_count": 24,
   "metadata": {},
   "outputs": [],
   "source": [
    "customers['customer_id'] = customers['customer_id'].astype('category')\n",
    "products[['customer_id', 'order_id']] = products[['customer_id','order_id']].astype('category')\n",
    "reviews['order_id'] = reviews['order_id'].astype('category')"
   ]
  },
  {
   "cell_type": "code",
   "execution_count": 25,
   "metadata": {},
   "outputs": [],
   "source": [
    "customers.drop_duplicates(subset=['customer_id','order_id','product_id'], keep='last', inplace=True)\n",
    "customers.reset_index(inplace=True)\n",
    "\n",
    "products.drop_duplicates(subset=['customer_id','order_id','product_id'], keep='last', inplace=True)\n",
    "products.reset_index(inplace=True)"
   ]
  },
  {
   "cell_type": "code",
   "execution_count": 26,
   "metadata": {},
   "outputs": [],
   "source": [
    "indx = []\n",
    "\n",
    "for x in customers.index:\n",
    "    indx.append(','.join([customers['customer_id'][x], customers['order_id'][x]]))\n",
    "    \n",
    "    \n",
    "customers['indx'] = indx\n",
    "\n",
    "indxx = []\n",
    "\n",
    "for x in products.index:\n",
    "    indxx.append(','.join([products['customer_id'][x], products['order_id'][x]]))\n",
    "    \n",
    "products['indx'] = indxx\n",
    "\n",
    "customers.set_index('indx', inplace=True)\n",
    "products.set_index('indx', inplace=True)"
   ]
  },
  {
   "cell_type": "code",
   "execution_count": 27,
   "metadata": {},
   "outputs": [
    {
     "ename": "TypeError",
     "evalue": "'<' not supported between instances of 'str' and 'int'",
     "output_type": "error",
     "traceback": [
      "\u001b[0;31m---------------------------------------------------------------------------\u001b[0m",
      "\u001b[0;31mTypeError\u001b[0m                                 Traceback (most recent call last)",
      "\u001b[0;32m<ipython-input-27-3a74bfbb0bbe>\u001b[0m in \u001b[0;36m<module>\u001b[0;34m\u001b[0m\n\u001b[1;32m      1\u001b[0m \u001b[0mdff\u001b[0m \u001b[0;34m=\u001b[0m \u001b[0mcustomers\u001b[0m\u001b[0;34m.\u001b[0m\u001b[0mjoin\u001b[0m\u001b[0;34m(\u001b[0m\u001b[0mproducts\u001b[0m\u001b[0;34m,\u001b[0m \u001b[0mrsuffix\u001b[0m\u001b[0;34m=\u001b[0m\u001b[0;34m'_dupe'\u001b[0m\u001b[0;34m)\u001b[0m\u001b[0;34m\u001b[0m\u001b[0;34m\u001b[0m\u001b[0m\n\u001b[0;32m----> 2\u001b[0;31m \u001b[0mdf\u001b[0m \u001b[0;34m=\u001b[0m \u001b[0mdff\u001b[0m\u001b[0;34m.\u001b[0m\u001b[0mjoin\u001b[0m\u001b[0;34m(\u001b[0m\u001b[0mreviews\u001b[0m\u001b[0;34m,\u001b[0m \u001b[0mrsuffix\u001b[0m\u001b[0;34m=\u001b[0m\u001b[0;34m'_dupe'\u001b[0m\u001b[0;34m)\u001b[0m\u001b[0;34m\u001b[0m\u001b[0;34m\u001b[0m\u001b[0m\n\u001b[0m",
      "\u001b[0;32m//anaconda3/lib/python3.7/site-packages/pandas/core/frame.py\u001b[0m in \u001b[0;36mjoin\u001b[0;34m(self, other, on, how, lsuffix, rsuffix, sort)\u001b[0m\n\u001b[1;32m   7237\u001b[0m         \u001b[0;31m# For SparseDataFrame's benefit\u001b[0m\u001b[0;34m\u001b[0m\u001b[0;34m\u001b[0m\u001b[0;34m\u001b[0m\u001b[0m\n\u001b[1;32m   7238\u001b[0m         return self._join_compat(\n\u001b[0;32m-> 7239\u001b[0;31m             \u001b[0mother\u001b[0m\u001b[0;34m,\u001b[0m \u001b[0mon\u001b[0m\u001b[0;34m=\u001b[0m\u001b[0mon\u001b[0m\u001b[0;34m,\u001b[0m \u001b[0mhow\u001b[0m\u001b[0;34m=\u001b[0m\u001b[0mhow\u001b[0m\u001b[0;34m,\u001b[0m \u001b[0mlsuffix\u001b[0m\u001b[0;34m=\u001b[0m\u001b[0mlsuffix\u001b[0m\u001b[0;34m,\u001b[0m \u001b[0mrsuffix\u001b[0m\u001b[0;34m=\u001b[0m\u001b[0mrsuffix\u001b[0m\u001b[0;34m,\u001b[0m \u001b[0msort\u001b[0m\u001b[0;34m=\u001b[0m\u001b[0msort\u001b[0m\u001b[0;34m\u001b[0m\u001b[0;34m\u001b[0m\u001b[0m\n\u001b[0m\u001b[1;32m   7240\u001b[0m         )\n\u001b[1;32m   7241\u001b[0m \u001b[0;34m\u001b[0m\u001b[0m\n",
      "\u001b[0;32m//anaconda3/lib/python3.7/site-packages/pandas/core/frame.py\u001b[0m in \u001b[0;36m_join_compat\u001b[0;34m(self, other, on, how, lsuffix, rsuffix, sort)\u001b[0m\n\u001b[1;32m   7260\u001b[0m                 \u001b[0mright_index\u001b[0m\u001b[0;34m=\u001b[0m\u001b[0;32mTrue\u001b[0m\u001b[0;34m,\u001b[0m\u001b[0;34m\u001b[0m\u001b[0;34m\u001b[0m\u001b[0m\n\u001b[1;32m   7261\u001b[0m                 \u001b[0msuffixes\u001b[0m\u001b[0;34m=\u001b[0m\u001b[0;34m(\u001b[0m\u001b[0mlsuffix\u001b[0m\u001b[0;34m,\u001b[0m \u001b[0mrsuffix\u001b[0m\u001b[0;34m)\u001b[0m\u001b[0;34m,\u001b[0m\u001b[0;34m\u001b[0m\u001b[0;34m\u001b[0m\u001b[0m\n\u001b[0;32m-> 7262\u001b[0;31m                 \u001b[0msort\u001b[0m\u001b[0;34m=\u001b[0m\u001b[0msort\u001b[0m\u001b[0;34m,\u001b[0m\u001b[0;34m\u001b[0m\u001b[0;34m\u001b[0m\u001b[0m\n\u001b[0m\u001b[1;32m   7263\u001b[0m             )\n\u001b[1;32m   7264\u001b[0m         \u001b[0;32melse\u001b[0m\u001b[0;34m:\u001b[0m\u001b[0;34m\u001b[0m\u001b[0;34m\u001b[0m\u001b[0m\n",
      "\u001b[0;32m//anaconda3/lib/python3.7/site-packages/pandas/core/reshape/merge.py\u001b[0m in \u001b[0;36mmerge\u001b[0;34m(left, right, how, on, left_on, right_on, left_index, right_index, sort, suffixes, copy, indicator, validate)\u001b[0m\n\u001b[1;32m     82\u001b[0m         \u001b[0mvalidate\u001b[0m\u001b[0;34m=\u001b[0m\u001b[0mvalidate\u001b[0m\u001b[0;34m,\u001b[0m\u001b[0;34m\u001b[0m\u001b[0;34m\u001b[0m\u001b[0m\n\u001b[1;32m     83\u001b[0m     )\n\u001b[0;32m---> 84\u001b[0;31m     \u001b[0;32mreturn\u001b[0m \u001b[0mop\u001b[0m\u001b[0;34m.\u001b[0m\u001b[0mget_result\u001b[0m\u001b[0;34m(\u001b[0m\u001b[0;34m)\u001b[0m\u001b[0;34m\u001b[0m\u001b[0;34m\u001b[0m\u001b[0m\n\u001b[0m\u001b[1;32m     85\u001b[0m \u001b[0;34m\u001b[0m\u001b[0m\n\u001b[1;32m     86\u001b[0m \u001b[0;34m\u001b[0m\u001b[0m\n",
      "\u001b[0;32m//anaconda3/lib/python3.7/site-packages/pandas/core/reshape/merge.py\u001b[0m in \u001b[0;36mget_result\u001b[0;34m(self)\u001b[0m\n\u001b[1;32m    641\u001b[0m             \u001b[0mself\u001b[0m\u001b[0;34m.\u001b[0m\u001b[0mleft\u001b[0m\u001b[0;34m,\u001b[0m \u001b[0mself\u001b[0m\u001b[0;34m.\u001b[0m\u001b[0mright\u001b[0m \u001b[0;34m=\u001b[0m \u001b[0mself\u001b[0m\u001b[0;34m.\u001b[0m\u001b[0m_indicator_pre_merge\u001b[0m\u001b[0;34m(\u001b[0m\u001b[0mself\u001b[0m\u001b[0;34m.\u001b[0m\u001b[0mleft\u001b[0m\u001b[0;34m,\u001b[0m \u001b[0mself\u001b[0m\u001b[0;34m.\u001b[0m\u001b[0mright\u001b[0m\u001b[0;34m)\u001b[0m\u001b[0;34m\u001b[0m\u001b[0;34m\u001b[0m\u001b[0m\n\u001b[1;32m    642\u001b[0m \u001b[0;34m\u001b[0m\u001b[0m\n\u001b[0;32m--> 643\u001b[0;31m         \u001b[0mjoin_index\u001b[0m\u001b[0;34m,\u001b[0m \u001b[0mleft_indexer\u001b[0m\u001b[0;34m,\u001b[0m \u001b[0mright_indexer\u001b[0m \u001b[0;34m=\u001b[0m \u001b[0mself\u001b[0m\u001b[0;34m.\u001b[0m\u001b[0m_get_join_info\u001b[0m\u001b[0;34m(\u001b[0m\u001b[0;34m)\u001b[0m\u001b[0;34m\u001b[0m\u001b[0;34m\u001b[0m\u001b[0m\n\u001b[0m\u001b[1;32m    644\u001b[0m \u001b[0;34m\u001b[0m\u001b[0m\n\u001b[1;32m    645\u001b[0m         \u001b[0mldata\u001b[0m\u001b[0;34m,\u001b[0m \u001b[0mrdata\u001b[0m \u001b[0;34m=\u001b[0m \u001b[0mself\u001b[0m\u001b[0;34m.\u001b[0m\u001b[0mleft\u001b[0m\u001b[0;34m.\u001b[0m\u001b[0m_data\u001b[0m\u001b[0;34m,\u001b[0m \u001b[0mself\u001b[0m\u001b[0;34m.\u001b[0m\u001b[0mright\u001b[0m\u001b[0;34m.\u001b[0m\u001b[0m_data\u001b[0m\u001b[0;34m\u001b[0m\u001b[0;34m\u001b[0m\u001b[0m\n",
      "\u001b[0;32m//anaconda3/lib/python3.7/site-packages/pandas/core/reshape/merge.py\u001b[0m in \u001b[0;36m_get_join_info\u001b[0;34m(self)\u001b[0m\n\u001b[1;32m    846\u001b[0m         \u001b[0;32mif\u001b[0m \u001b[0mself\u001b[0m\u001b[0;34m.\u001b[0m\u001b[0mleft_index\u001b[0m \u001b[0;32mand\u001b[0m \u001b[0mself\u001b[0m\u001b[0;34m.\u001b[0m\u001b[0mright_index\u001b[0m \u001b[0;32mand\u001b[0m \u001b[0mself\u001b[0m\u001b[0;34m.\u001b[0m\u001b[0mhow\u001b[0m \u001b[0;34m!=\u001b[0m \u001b[0;34m\"asof\"\u001b[0m\u001b[0;34m:\u001b[0m\u001b[0;34m\u001b[0m\u001b[0;34m\u001b[0m\u001b[0m\n\u001b[1;32m    847\u001b[0m             join_index, left_indexer, right_indexer = left_ax.join(\n\u001b[0;32m--> 848\u001b[0;31m                 \u001b[0mright_ax\u001b[0m\u001b[0;34m,\u001b[0m \u001b[0mhow\u001b[0m\u001b[0;34m=\u001b[0m\u001b[0mself\u001b[0m\u001b[0;34m.\u001b[0m\u001b[0mhow\u001b[0m\u001b[0;34m,\u001b[0m \u001b[0mreturn_indexers\u001b[0m\u001b[0;34m=\u001b[0m\u001b[0;32mTrue\u001b[0m\u001b[0;34m,\u001b[0m \u001b[0msort\u001b[0m\u001b[0;34m=\u001b[0m\u001b[0mself\u001b[0m\u001b[0;34m.\u001b[0m\u001b[0msort\u001b[0m\u001b[0;34m\u001b[0m\u001b[0;34m\u001b[0m\u001b[0m\n\u001b[0m\u001b[1;32m    849\u001b[0m             )\n\u001b[1;32m    850\u001b[0m         \u001b[0;32melif\u001b[0m \u001b[0mself\u001b[0m\u001b[0;34m.\u001b[0m\u001b[0mright_index\u001b[0m \u001b[0;32mand\u001b[0m \u001b[0mself\u001b[0m\u001b[0;34m.\u001b[0m\u001b[0mhow\u001b[0m \u001b[0;34m==\u001b[0m \u001b[0;34m\"left\"\u001b[0m\u001b[0;34m:\u001b[0m\u001b[0;34m\u001b[0m\u001b[0;34m\u001b[0m\u001b[0m\n",
      "\u001b[0;32m//anaconda3/lib/python3.7/site-packages/pandas/core/indexes/base.py\u001b[0m in \u001b[0;36mjoin\u001b[0;34m(self, other, how, level, return_indexers, sort)\u001b[0m\n\u001b[1;32m   3552\u001b[0m             \u001b[0mthis\u001b[0m \u001b[0;34m=\u001b[0m \u001b[0mself\u001b[0m\u001b[0;34m.\u001b[0m\u001b[0mastype\u001b[0m\u001b[0;34m(\u001b[0m\u001b[0;34m\"O\"\u001b[0m\u001b[0;34m)\u001b[0m\u001b[0;34m\u001b[0m\u001b[0;34m\u001b[0m\u001b[0m\n\u001b[1;32m   3553\u001b[0m             \u001b[0mother\u001b[0m \u001b[0;34m=\u001b[0m \u001b[0mother\u001b[0m\u001b[0;34m.\u001b[0m\u001b[0mastype\u001b[0m\u001b[0;34m(\u001b[0m\u001b[0;34m\"O\"\u001b[0m\u001b[0;34m)\u001b[0m\u001b[0;34m\u001b[0m\u001b[0;34m\u001b[0m\u001b[0m\n\u001b[0;32m-> 3554\u001b[0;31m             \u001b[0;32mreturn\u001b[0m \u001b[0mthis\u001b[0m\u001b[0;34m.\u001b[0m\u001b[0mjoin\u001b[0m\u001b[0;34m(\u001b[0m\u001b[0mother\u001b[0m\u001b[0;34m,\u001b[0m \u001b[0mhow\u001b[0m\u001b[0;34m=\u001b[0m\u001b[0mhow\u001b[0m\u001b[0;34m,\u001b[0m \u001b[0mreturn_indexers\u001b[0m\u001b[0;34m=\u001b[0m\u001b[0mreturn_indexers\u001b[0m\u001b[0;34m)\u001b[0m\u001b[0;34m\u001b[0m\u001b[0;34m\u001b[0m\u001b[0m\n\u001b[0m\u001b[1;32m   3555\u001b[0m \u001b[0;34m\u001b[0m\u001b[0m\n\u001b[1;32m   3556\u001b[0m         \u001b[0m_validate_join_method\u001b[0m\u001b[0;34m(\u001b[0m\u001b[0mhow\u001b[0m\u001b[0;34m)\u001b[0m\u001b[0;34m\u001b[0m\u001b[0;34m\u001b[0m\u001b[0m\n",
      "\u001b[0;32m//anaconda3/lib/python3.7/site-packages/pandas/core/indexes/base.py\u001b[0m in \u001b[0;36mjoin\u001b[0;34m(self, other, how, level, return_indexers, sort)\u001b[0m\n\u001b[1;32m   3563\u001b[0m             \u001b[0;32mif\u001b[0m \u001b[0mself\u001b[0m\u001b[0;34m.\u001b[0m\u001b[0mis_monotonic\u001b[0m \u001b[0;32mand\u001b[0m \u001b[0mother\u001b[0m\u001b[0;34m.\u001b[0m\u001b[0mis_monotonic\u001b[0m\u001b[0;34m:\u001b[0m\u001b[0;34m\u001b[0m\u001b[0;34m\u001b[0m\u001b[0m\n\u001b[1;32m   3564\u001b[0m                 return self._join_monotonic(\n\u001b[0;32m-> 3565\u001b[0;31m                     \u001b[0mother\u001b[0m\u001b[0;34m,\u001b[0m \u001b[0mhow\u001b[0m\u001b[0;34m=\u001b[0m\u001b[0mhow\u001b[0m\u001b[0;34m,\u001b[0m \u001b[0mreturn_indexers\u001b[0m\u001b[0;34m=\u001b[0m\u001b[0mreturn_indexers\u001b[0m\u001b[0;34m\u001b[0m\u001b[0;34m\u001b[0m\u001b[0m\n\u001b[0m\u001b[1;32m   3566\u001b[0m                 )\n\u001b[1;32m   3567\u001b[0m             \u001b[0;32melse\u001b[0m\u001b[0;34m:\u001b[0m\u001b[0;34m\u001b[0m\u001b[0;34m\u001b[0m\u001b[0m\n",
      "\u001b[0;32m//anaconda3/lib/python3.7/site-packages/pandas/core/indexes/base.py\u001b[0m in \u001b[0;36m_join_monotonic\u001b[0;34m(self, other, how, return_indexers)\u001b[0m\n\u001b[1;32m   3869\u001b[0m         \u001b[0;32melse\u001b[0m\u001b[0;34m:\u001b[0m\u001b[0;34m\u001b[0m\u001b[0;34m\u001b[0m\u001b[0m\n\u001b[1;32m   3870\u001b[0m             \u001b[0;32mif\u001b[0m \u001b[0mhow\u001b[0m \u001b[0;34m==\u001b[0m \u001b[0;34m\"left\"\u001b[0m\u001b[0;34m:\u001b[0m\u001b[0;34m\u001b[0m\u001b[0;34m\u001b[0m\u001b[0m\n\u001b[0;32m-> 3871\u001b[0;31m                 \u001b[0mjoin_index\u001b[0m\u001b[0;34m,\u001b[0m \u001b[0mlidx\u001b[0m\u001b[0;34m,\u001b[0m \u001b[0mridx\u001b[0m \u001b[0;34m=\u001b[0m \u001b[0mself\u001b[0m\u001b[0;34m.\u001b[0m\u001b[0m_left_indexer\u001b[0m\u001b[0;34m(\u001b[0m\u001b[0msv\u001b[0m\u001b[0;34m,\u001b[0m \u001b[0mov\u001b[0m\u001b[0;34m)\u001b[0m\u001b[0;34m\u001b[0m\u001b[0;34m\u001b[0m\u001b[0m\n\u001b[0m\u001b[1;32m   3872\u001b[0m             \u001b[0;32melif\u001b[0m \u001b[0mhow\u001b[0m \u001b[0;34m==\u001b[0m \u001b[0;34m\"right\"\u001b[0m\u001b[0;34m:\u001b[0m\u001b[0;34m\u001b[0m\u001b[0;34m\u001b[0m\u001b[0m\n\u001b[1;32m   3873\u001b[0m                 \u001b[0mjoin_index\u001b[0m\u001b[0;34m,\u001b[0m \u001b[0mridx\u001b[0m\u001b[0;34m,\u001b[0m \u001b[0mlidx\u001b[0m \u001b[0;34m=\u001b[0m \u001b[0mself\u001b[0m\u001b[0;34m.\u001b[0m\u001b[0m_left_indexer\u001b[0m\u001b[0;34m(\u001b[0m\u001b[0mov\u001b[0m\u001b[0;34m,\u001b[0m \u001b[0msv\u001b[0m\u001b[0;34m)\u001b[0m\u001b[0;34m\u001b[0m\u001b[0;34m\u001b[0m\u001b[0m\n",
      "\u001b[0;32m//anaconda3/lib/python3.7/site-packages/pandas/core/indexes/base.py\u001b[0m in \u001b[0;36m_left_indexer\u001b[0;34m(self, left, right)\u001b[0m\n\u001b[1;32m    239\u001b[0m \u001b[0;34m\u001b[0m\u001b[0m\n\u001b[1;32m    240\u001b[0m     \u001b[0;32mdef\u001b[0m \u001b[0m_left_indexer\u001b[0m\u001b[0;34m(\u001b[0m\u001b[0mself\u001b[0m\u001b[0;34m,\u001b[0m \u001b[0mleft\u001b[0m\u001b[0;34m,\u001b[0m \u001b[0mright\u001b[0m\u001b[0;34m)\u001b[0m\u001b[0;34m:\u001b[0m\u001b[0;34m\u001b[0m\u001b[0;34m\u001b[0m\u001b[0m\n\u001b[0;32m--> 241\u001b[0;31m         \u001b[0;32mreturn\u001b[0m \u001b[0mlibjoin\u001b[0m\u001b[0;34m.\u001b[0m\u001b[0mleft_join_indexer\u001b[0m\u001b[0;34m(\u001b[0m\u001b[0mleft\u001b[0m\u001b[0;34m,\u001b[0m \u001b[0mright\u001b[0m\u001b[0;34m)\u001b[0m\u001b[0;34m\u001b[0m\u001b[0;34m\u001b[0m\u001b[0m\n\u001b[0m\u001b[1;32m    242\u001b[0m \u001b[0;34m\u001b[0m\u001b[0m\n\u001b[1;32m    243\u001b[0m     \u001b[0;32mdef\u001b[0m \u001b[0m_inner_indexer\u001b[0m\u001b[0;34m(\u001b[0m\u001b[0mself\u001b[0m\u001b[0;34m,\u001b[0m \u001b[0mleft\u001b[0m\u001b[0;34m,\u001b[0m \u001b[0mright\u001b[0m\u001b[0;34m)\u001b[0m\u001b[0;34m:\u001b[0m\u001b[0;34m\u001b[0m\u001b[0;34m\u001b[0m\u001b[0m\n",
      "\u001b[0;32mpandas/_libs/join.pyx\u001b[0m in \u001b[0;36mpandas._libs.join.left_join_indexer\u001b[0;34m()\u001b[0m\n",
      "\u001b[0;31mTypeError\u001b[0m: '<' not supported between instances of 'str' and 'int'"
     ]
    }
   ],
   "source": [
    "dff = customers.join(products, rsuffix='_dupe')\n",
    "df = dff.join(reviews, rsuffix='_dupe')"
   ]
  },
  {
   "cell_type": "code",
   "execution_count": null,
   "metadata": {},
   "outputs": [],
   "source": [
    "cols = list(df.columns)\n",
    "string = '_dupe'\n",
    "\n",
    "for x in cols:\n",
    "    if string in x:\n",
    "        df.drop(columns=[x], inplace=True)\n",
    "    else:\n",
    "        continue"
   ]
  },
  {
   "cell_type": "markdown",
   "metadata": {},
   "source": [
    "## Data Types\n",
    "\n"
   ]
  },
  {
   "cell_type": "markdown",
   "metadata": {},
   "source": [
    "Revew columns dropped - too many Nans"
   ]
  },
  {
   "cell_type": "code",
   "execution_count": null,
   "metadata": {},
   "outputs": [],
   "source": [
    "df.drop(columns=[ 'review_id','review_comment_title','review_comment_message','title_length','review_length','order_item_id'], inplace=True)"
   ]
  },
  {
   "cell_type": "code",
   "execution_count": null,
   "metadata": {},
   "outputs": [],
   "source": [
    "df.drop(columns=['level_0','index','customer_id','order_id','product_id','indx','seller_id'], inplace=True)"
   ]
  },
  {
   "cell_type": "code",
   "execution_count": null,
   "metadata": {},
   "outputs": [],
   "source": [
    "df.drop(columns=['seller_zip_code_prefix','customer_zip_code_prefix'],inplace=True)"
   ]
  },
  {
   "cell_type": "code",
   "execution_count": null,
   "metadata": {},
   "outputs": [],
   "source": [
    "df.dropna(inplace=True)\n",
    "df.reset_index(inplace=True)"
   ]
  },
  {
   "cell_type": "code",
   "execution_count": null,
   "metadata": {},
   "outputs": [],
   "source": [
    "cols = ['payment_type','customer_state','product_category_name_english','seller_state','review_score']\n",
    "\n",
    "for col in cols:\n",
    "    df[col] = df[col].astype('category')"
   ]
  },
  {
   "cell_type": "code",
   "execution_count": null,
   "metadata": {},
   "outputs": [],
   "source": [
    "# df.to_csv('data/full_dataset.csv')\n",
    "pickle.dump(df, open('data/full_dataset.p', 'wb'))"
   ]
  },
  {
   "cell_type": "code",
   "execution_count": null,
   "metadata": {},
   "outputs": [],
   "source": [
    "df_dum = df[['product_category_name_english','customer_state','seller_state','review_score','payment_type']]\n",
    "\n",
    "dff = pd.get_dummies(df_dum)"
   ]
  },
  {
   "cell_type": "code",
   "execution_count": null,
   "metadata": {},
   "outputs": [],
   "source": [
    "final = pd.concat([df, dff], axis=1)\n",
    "final.drop(columns=['product_category_name_english','customer_state','seller_state','review_score','payment_type'],\n",
    "          inplace=True)"
   ]
  },
  {
   "cell_type": "code",
   "execution_count": null,
   "metadata": {},
   "outputs": [],
   "source": [
    "pickle.dump(final, open('data/final_df_dummies.p', 'wb'))"
   ]
  }
 ],
 "metadata": {
  "kernelspec": {
   "display_name": "Python 3",
   "language": "python",
   "name": "python3"
  },
  "language_info": {
   "codemirror_mode": {
    "name": "ipython",
    "version": 3
   },
   "file_extension": ".py",
   "mimetype": "text/x-python",
   "name": "python",
   "nbconvert_exporter": "python",
   "pygments_lexer": "ipython3",
   "version": "3.7.5"
  }
 },
 "nbformat": 4,
 "nbformat_minor": 4
}
